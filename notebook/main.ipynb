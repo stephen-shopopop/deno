{
 "cells": [
  {
   "cell_type": "code",
   "execution_count": null,
   "metadata": {},
   "outputs": [],
   "source": [
    "await Deno.jupyter.display({\n",
    "  'text/plain': 'Hello, world!',\n",
    "  'text/html': '<h1>Hello, world!</h1>',\n",
    "  'text/markdown': '# Hello, world!',\n",
    "}, { raw: true })"
   ]
  },
  {
   "cell_type": "code",
   "execution_count": null,
   "metadata": {},
   "outputs": [],
   "source": [
    "Deno.jupyter.html`<h1>Hello, world!</h1>\n",
    "<h2>From Deno kernel</h2>\n",
    "<p>Lorem ipsum <i>dolor</i> <b>sit</b> <u>amet</u></p>`"
   ]
  },
  {
   "cell_type": "code",
   "execution_count": null,
   "metadata": {},
   "outputs": [],
   "source": [
    "Deno.jupyter.svg`<svg xmlns=\"http://www.w3.org/2000/svg\" viewBox=\"0 0 100 100\">\n",
    "      <circle cx=\"50\" cy=\"50\" r=\"40\" stroke=\"green\" stroke-width=\"4\" fill=\"yellow\" />\n",
    "    </svg>`"
   ]
  },
  {
   "cell_type": "code",
   "execution_count": null,
   "metadata": {},
   "outputs": [],
   "source": [
    "await Deno.jupyter.broadcast('display_data', {\n",
    "  data: { 'text/html': '<b>Processing...</b>' },\n",
    "  metadata: {},\n",
    "  transient: { display_id: 'progress' },\n",
    "})\n",
    "\n",
    "// Pretend we're doing an expensive compute\n",
    "await new Promise((resolve) => setTimeout(resolve, 1500))\n",
    "\n",
    "await Deno.jupyter.broadcast('update_display_data', {\n",
    "  data: { 'text/html': '<b>Done</b>' },\n",
    "  metadata: {},\n",
    "  transient: { display_id: 'progress' },\n",
    "})"
   ]
  }
 ],
 "metadata": {
  "kernelspec": {
   "display_name": "Deno",
   "language": "typescript",
   "name": "deno"
  },
  "language_info": {
   "codemirror_mode": "typescript",
   "file_extension": ".ts",
   "mimetype": "text/x.typescript",
   "name": "typescript",
   "nbconvert_exporter": "script",
   "pygments_lexer": "typescript",
   "version": "5.6.2"
  }
 },
 "nbformat": 4,
 "nbformat_minor": 2
}
